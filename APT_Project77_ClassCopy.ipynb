{
  "nbformat": 4,
  "nbformat_minor": 0,
  "metadata": {
    "colab": {
      "provenance": [],
      "include_colab_link": true
    },
    "kernelspec": {
      "name": "python3",
      "display_name": "Python 3"
    }
  },
  "cells": [
    {
      "cell_type": "markdown",
      "metadata": {
        "id": "view-in-github",
        "colab_type": "text"
      },
      "source": [
        "<a href=\"https://colab.research.google.com/github/nalinis07/APT_Project_Copy_links/blob/MASTER/APT_Project77_ClassCopy.ipynb\" target=\"_parent\"><img src=\"https://colab.research.google.com/assets/colab-badge.svg\" alt=\"Open In Colab\"/></a>"
      ]
    },
    {
      "cell_type": "markdown",
      "metadata": {
        "id": "YZnBY81YDCCr"
      },
      "source": [
        "### Instructions"
      ]
    },
    {
      "cell_type": "markdown",
      "metadata": {
        "id": "bEyBzxYRhrLG"
      },
      "source": [
        "#### Goal of the Project\n",
        "\n",
        "In class 77, you would have explored the surface plot which is a kind of three-dimensional plot used to visualise the behaviour of  three-dimensional data. And we can use it to observe the relationship between three variables of an equation.\n",
        "\n",
        "This project is designed for you to practice and solve the activities that are based on the concepts covered in the lesson:\n",
        "\n",
        "**Logistic Regression - Surface Plot and Partial Derivatives.**"
      ]
    },
    {
      "cell_type": "markdown",
      "metadata": {
        "id": "Z3mrsbk2c98N"
      },
      "source": [
        "---"
      ]
    },
    {
      "cell_type": "markdown",
      "metadata": {
        "id": "0g4GuW3v5yHT"
      },
      "source": [
        "### Activities\n",
        "\n",
        "\n",
        "\n",
        "In this project, you need to plot the equations mentioned in the activities on the graph using the surface plot.\n"
      ]
    },
    {
      "cell_type": "markdown",
      "metadata": {
        "id": "gWZWmYvd5zCa"
      },
      "source": [
        "---"
      ]
    },
    {
      "cell_type": "markdown",
      "metadata": {
        "id": "LxnFXAVncWZk"
      },
      "source": [
        "#### Getting Started:\n",
        "\n",
        "1. Follow the next 3 steps to create a copy of this colab file and start working on the project.\n",
        "\n",
        "2. Create a duplicate copy of the Colab file as described below.\n",
        "\n",
        "  - Click on the **File menu**. A new drop-down list will appear.\n",
        "\n",
        "   <img src='https://student-datasets-bucket.s3.ap-south-1.amazonaws.com/images/lesson-0/0_file_menu.png' width=500>\n",
        "\n",
        "  - Click on the **Save a copy in Drive** option. A duplicate copy will get created. It will open up in the new tab on your web browser.\n",
        "\n",
        "  <img src='https://student-datasets-bucket.s3.ap-south-1.amazonaws.com/images/lesson-0/1_create_colab_duplicate_copy.png' width=500>\n",
        "\n",
        "3. After creating the duplicate copy of the notebook, please rename it in the **YYYY-MM-DD_StudentName_Project77** format.\n",
        "\n",
        "4. Now, write your code in the prescribed code cells.\n"
      ]
    },
    {
      "cell_type": "markdown",
      "metadata": {
        "id": "mKynZFvkcXsB"
      },
      "source": [
        "---"
      ]
    },
    {
      "cell_type": "markdown",
      "metadata": {
        "id": "K-elDvhbnJsG"
      },
      "source": [
        "### Activities\n",
        "\n",
        "A surface plot is a kind of three-dimensional plot used to visualise the behaviour of a three-dimensional data. Thus, we can use it to observe the relationship between three variables of an equation.\n",
        "\n",
        "In this project, you need to plot the equations mentioned in the activities on the graph using the surface plot.\n"
      ]
    },
    {
      "cell_type": "markdown",
      "metadata": {
        "id": "NLrjBf_WEvVz"
      },
      "source": [
        "---"
      ]
    },
    {
      "cell_type": "markdown",
      "metadata": {
        "id": "yIyJ5KkkXw-l"
      },
      "source": [
        "####Activity 1: Create a Surface Plot for the Hypotenuse\n",
        "\n",
        "\n",
        "Create a surface plot for calculating the hypotenuse of the `n` right-angled triangle(s) using the formula:\n",
        "$$hypotenuse = \\sqrt{(length)^2 + (width)^2}$$\n",
        "\n",
        "Here,\n",
        "* `length` will be an array of `n` numbers ranging from 1 to 5.\n",
        "* `width` will be an array of `n` numbers ranging from 5 to 10.\n",
        "* `n=100` (number of triangles).\n",
        "\n",
        "**Steps:**\n",
        "1. Create a variable `n` to store the number of triangles.\n",
        "2. Create two 1D arrays using `np.linspace()` to store the length and width.\n",
        "3. Create a meshed grid using `length` and `width` arrays using `np.meshgrid()`.\n",
        "\n",
        "  This will return two 2D arrays. Store these 2D arrays in `meshed_length` and  `meshed_width` variables.\n",
        "4. Create a 3D plot using `gca(projection = '3d')` function and store this 3D axis in `ax` variable.\n",
        "5. Plot the 3D surface plot for the hypotenuse using `plot_surface()` function.\n",
        " - Plot the `length` on X-axis.\n",
        " - Plot the `width` on Y-axis.\n",
        " - Calculate the hypotenuse using the formula and plot it on the Z-axis.\n",
        "\n",
        "6. Label all the three-axis and display the plot.\n",
        "\n"
      ]
    },
    {
      "cell_type": "code",
      "metadata": {
        "id": "z-i4nFpVUfGD"
      },
      "source": [
        "# Code to ignore warning\n",
        "import warnings\n",
        "warnings.filterwarnings(\"ignore\")"
      ],
      "execution_count": 1,
      "outputs": []
    },
    {
      "cell_type": "code",
      "metadata": {
        "id": "YM-JHnJUE7It"
      },
      "source": [
        "# Create the surface plot for calculating Hypotenuse\n",
        "\n",
        "# Import the modules\n",
        "from mpl_toolkits.mplot3d import Axes3D\n",
        "import numpy as np\n",
        "import matplotlib.pyplot as plt\n",
        "from matplotlib import cm\n",
        "\n",
        "# Create variables n, length, width\n",
        "\n",
        "\n",
        "# Create the mesh grid\n",
        "\n",
        "\n",
        "# Create the graph using figure(), title(), plt.axes() functions\n",
        "\n",
        "\n",
        "# Plot the surface plot for the hypotenuse\n",
        "\n",
        "# Label the axes\n",
        "\n",
        "\n",
        "# Display the surface plot\n"
      ],
      "execution_count": 2,
      "outputs": []
    },
    {
      "cell_type": "markdown",
      "metadata": {
        "id": "p91tRT0g5zNt"
      },
      "source": [
        "---"
      ]
    },
    {
      "cell_type": "markdown",
      "metadata": {
        "id": "N1GvSzVb9lVn"
      },
      "source": [
        "####Activity 2: Create a surface plot for two equations\n",
        "\n",
        "Create a surface plot for observing the two equations given below for `m` number of inputs\n",
        "\n",
        "* **Equation 1:** $z = (a+b)^2$\n",
        "* **Equation 2:** $z = a^2 + b^2$\n",
        "\n",
        "Here,\n",
        "\n",
        "* `a` will be an array of `m` numbers ranging from 0 to 5.\n",
        "* `b` will be an array of `m` numbers ranging from 0 to 5.\n",
        "* `m = 100` (number of inputs).\n"
      ]
    },
    {
      "cell_type": "code",
      "metadata": {
        "id": "ZmJXySHwKvvn"
      },
      "source": [
        "# Create the surface plot for the equations\n",
        "\n",
        "# Create variables m, a, b\n",
        "m=100\n",
        "a = np.linspace(0,6,m)\n",
        "b = np.linspace(0,6,m)\n",
        "\n",
        "# Create the mesh grid for a and b\n",
        "\n",
        "\n",
        "# Create the graph figure(), title(), and gca() functions\n",
        "fig = plt.figure(figsize=(12,5), dpi=96)\n",
        "ax = fig.add_subplot(projection=\"3d\")\n",
        "\n",
        "# Plot the surface plot for equation 1. The meshed_a will be on X-axis, meshed_b on Y-axis and the equation 1 will be on Z-axis.\n",
        "\n",
        "# Plot the surface plot for equation 2. The meshed_a will be on X-axis, meshed_b on Y-axis and the equation 2 will be on Z-axis.\n",
        "\n",
        "# Label the axes\n",
        "plt.xlabel(\"a\")\n",
        "plt.ylabel(\"b\")\n",
        "\n",
        "# Display the surface plot\n",
        "plt.show()"
      ],
      "execution_count": null,
      "outputs": []
    },
    {
      "cell_type": "markdown",
      "metadata": {
        "id": "KOZ65IXmBbCj"
      },
      "source": [
        "**Q:** How many plots can be seen in the output? Is there a relationship between the two equations?\n",
        "\n",
        "**A:**"
      ]
    },
    {
      "cell_type": "markdown",
      "metadata": {
        "id": "3tnWBDNATpeN"
      },
      "source": [
        "**Hint:** You can refer the steps given in Activity 1 for performing this activity."
      ]
    },
    {
      "cell_type": "markdown",
      "metadata": {
        "id": "3jjEbRSBBcRa"
      },
      "source": [
        "---"
      ]
    },
    {
      "cell_type": "markdown",
      "metadata": {
        "id": "beh4YV1ec15L"
      },
      "source": [
        "### Submitting the Project\n",
        "\n",
        "1. After finishing the project, click on the **Share** button on the top right corner of the notebook. A new dialog box will appear.\n",
        "\n",
        "  <img src='https://student-datasets-bucket.s3.ap-south-1.amazonaws.com/images/project-share-images/2_share_button.png' width=500>\n",
        "\n",
        "2. In the dialog box, make sure that '**Anyone on the Internet with this link can view**' option is selected and then click on the **Copy link** button.\n",
        "\n",
        "   <img src='https://student-datasets-bucket.s3.ap-south-1.amazonaws.com/images/project-share-images/3_copy_link.png' width=500>\n",
        "\n",
        "3. The link of the duplicate copy (named as **YYYY-MM-DD_StudentName_Project77**) of the notebook will get copied.\n",
        "\n",
        "   <img src='https://student-datasets-bucket.s3.ap-south-1.amazonaws.com/images/project-share-images/4_copy_link_confirmation.png' width=500>\n",
        "\n",
        "4. Go to your dashboard and click on the **My Projects** option.\n",
        "   \n",
        "   <img src='https://student-datasets-bucket.s3.ap-south-1.amazonaws.com/images/project-share-images/5_student_dashboard.png' width=800>\n",
        "\n",
        "  <img src='https://student-datasets-bucket.s3.ap-south-1.amazonaws.com/images/project-share-images/6_my_projects.png' width=800>\n",
        "\n",
        "5. Click on the **View Project** button for the project you want to submit.\n",
        "\n",
        "   <img src='https://student-datasets-bucket.s3.ap-south-1.amazonaws.com/images/project-share-images/7_view_project.png' width=800>\n",
        "\n",
        "6. Click on the **Submit Project Here** button.\n",
        "\n",
        "   <img src='https://student-datasets-bucket.s3.ap-south-1.amazonaws.com/images/project-share-images/8_submit_project.png' width=800>\n",
        "\n",
        "7. Paste the link to the project file named as **YYYY-MM-DD_StudentName_Project77** in the URL box and then click on the **Submit** button.\n",
        "\n",
        "   <img src='https://student-datasets-bucket.s3.ap-south-1.amazonaws.com/images/project-share-images/9_enter_project_url.png' width=800>"
      ]
    },
    {
      "cell_type": "markdown",
      "metadata": {
        "id": "z_Hbfma0c3pz"
      },
      "source": [
        "---"
      ]
    }
  ]
}