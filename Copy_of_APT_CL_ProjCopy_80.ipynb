{
  "nbformat": 4,
  "nbformat_minor": 0,
  "metadata": {
    "colab": {
      "provenance": [],
      "include_colab_link": true
    },
    "kernelspec": {
      "name": "python3",
      "display_name": "Python 3"
    }
  },
  "cells": [
    {
      "cell_type": "markdown",
      "metadata": {
        "id": "view-in-github",
        "colab_type": "text"
      },
      "source": [
        "<a href=\"https://colab.research.google.com/github/nalinis07/APT_Project_Copy_links/blob/MASTER/Copy_of_APT_CL_ProjCopy_80.ipynb\" target=\"_parent\"><img src=\"https://colab.research.google.com/assets/colab-badge.svg\" alt=\"Open In Colab\"/></a>"
      ]
    },
    {
      "cell_type": "markdown",
      "metadata": {
        "id": "erYQyGJOT0Ya"
      },
      "source": [
        "### Instructions"
      ]
    },
    {
      "cell_type": "markdown",
      "metadata": {
        "id": "Y3MP63loT5wP"
      },
      "source": [
        "#### Goal of the Project\n",
        "\n",
        "This project is designed for you to practice and solve the activities that are based on the concepts covered in the following lessons:\n",
        "\n",
        " 1. Logistic Regression - Univariate Classification I\n",
        "\n",
        " 2. Logistic Regression - Decision Boundary\n",
        "\n",
        " 3. Logistic Regression - Multiclass Classification I\n",
        "\n",
        "\n"
      ]
    },
    {
      "cell_type": "markdown",
      "metadata": {
        "id": "9c6PRCvhv4PR"
      },
      "source": [
        "---"
      ]
    },
    {
      "cell_type": "markdown",
      "metadata": {
        "id": "xBqnPkpftDXI"
      },
      "source": [
        "#### Getting Started:\n",
        "\n",
        "1. Follow the next 3 steps to create a copy of this colab file and start working on the project.\n",
        "\n",
        "2. Create a duplicate copy of the Colab file as described below.\n",
        "\n",
        "  - Click on the **File menu**. A new drop-down list will appear.\n",
        "\n",
        "   <img src='https://student-datasets-bucket.s3.ap-south-1.amazonaws.com/images/lesson-0/0_file_menu.png' width=500>\n",
        "\n",
        "  - Click on the **Save a copy in Drive** option. A duplicate copy will get created. It will open up in the new tab on your web browser.\n",
        "\n",
        "  <img src='https://student-datasets-bucket.s3.ap-south-1.amazonaws.com/images/lesson-0/1_create_colab_duplicate_copy.png' width=500>\n",
        "\n",
        "3. After creating the duplicate copy of the notebook, please rename it in the **YYYY-MM-DD_StudentName_Project80** format.\n",
        "\n",
        "4. Now, write your code in the prescribed code cells.\n"
      ]
    },
    {
      "cell_type": "markdown",
      "metadata": {
        "id": "jHG5AAontFHH"
      },
      "source": [
        "---"
      ]
    },
    {
      "cell_type": "markdown",
      "metadata": {
        "id": "Y8OJHhG4v5ej"
      },
      "source": [
        "### Problem Statement\n",
        "\n",
        "In this project, you are going to create your own synthetic data for multiclass classification and create a Logistic Regression model to classify the data using Machine Learning.\n"
      ]
    },
    {
      "cell_type": "markdown",
      "metadata": {
        "id": "cV6O1B17yAmf"
      },
      "source": [
        "---"
      ]
    },
    {
      "cell_type": "markdown",
      "metadata": {
        "id": "7QID5cPsyBMs"
      },
      "source": [
        "### List of Activities\n",
        "\n",
        "**Activity 1:** Create the Dummy Dataset\n",
        "\n",
        "**Activity 2:**  Dataset Inspection\n",
        "\n",
        "**Activity 3:**  Train-Test Split\n",
        "\n",
        "**Activity 4:** Logistic Regression - Model Training\n",
        "\n",
        "**Activity 5:** Model Prediction and Evaluation - Training Set\n",
        "\n",
        "**Activity 6:** Model Prediction and Evaluation - Testing Set\n"
      ]
    },
    {
      "cell_type": "markdown",
      "metadata": {
        "id": "Gddd4cfWyEOa"
      },
      "source": [
        "---"
      ]
    },
    {
      "cell_type": "markdown",
      "metadata": {
        "id": "0vmj2glW8aKa"
      },
      "source": [
        "#### Activity 1: Create Dummy Dataset\n",
        "\n",
        "In this activity, you have to create a dummy dataset for multiclass classification.\n",
        "\n",
        "The steps to be followed are as follows:\n",
        "\n",
        "**1.** Create a dummy dataset having two columns representing two independent variables and a third column representing the target.  \n",
        "\n",
        "  The number of records should be divided into 6 random groups like `[200, 4270, 7930, 21, 3331, 2721]` such that the target columns has 6 different labels `[0, 1, 2, 3, 4, 5]`.\n",
        "\n",
        "\n",
        "  **Recall:**\n",
        "\n",
        "  To create a dummy data-frame, use the `make_blob()` function of the `sklearn.datasets` module which will return two arrays `feature_array` and the `target_array`. The syntax for the `make_blob()` function is as follows:\n",
        "\n",
        "  **Syntax:** `make_blobs(n_samples, centers, n_features, random_state, cluster_std)`\n",
        "\n"
      ]
    },
    {
      "cell_type": "code",
      "metadata": {
        "id": "eOGnVSR5i_yH"
      },
      "source": [
        "# Create two arrays using the 'make_blobs()' function and store them in the 'features_array' and 'target_array' variables.\n",
        "import pandas as pd\n",
        "import numpy as np\n",
        "from sklearn.datasets import make_blobs\n"
      ],
      "execution_count": null,
      "outputs": []
    },
    {
      "cell_type": "markdown",
      "metadata": {
        "id": "t7zQGUC6wXub"
      },
      "source": [
        "**Hint:**\n",
        "\n",
        "In the `make_blobs()` function use `n_samples=[200, 4270, 7930,21,3331,2721]` and `center=None` for the division of target label into seven groups.\n",
        "\n",
        "----\n",
        "**2.** Print the object-type of the arrays created by the `make_blob()` function and also print the number of rows and columns in them."
      ]
    },
    {
      "cell_type": "code",
      "metadata": {
        "id": "qhAqeMOZkIGP"
      },
      "source": [
        "# Find out the object-type of the arrays created by the 'make_blob()' function and the number of rows and columns in them.\n",
        "\n",
        "# Print the type of 'features_array' and 'target_array'\n",
        "\n",
        "# Print the number of rows and column of 'features_array'\n",
        "\n",
        "# Print the number of rows and column of 'target_array'\n"
      ],
      "execution_count": null,
      "outputs": []
    },
    {
      "cell_type": "markdown",
      "metadata": {
        "id": "ZzLDfaaVxKNw"
      },
      "source": [
        "**Q:** How many rows are created in the feature and target columns?\n",
        "\n",
        "**A:**\n",
        "\n",
        "----\n",
        "**3.** Create a DataFrame from the two arrays using a Python dictionary.\n",
        "\n",
        "**Steps: (Learnt in \"Logistic Regression - Decision Boundary\" lesson**)\n",
        "- Create a dummy dicitonary.\n",
        "\n",
        "- Add the feature columns as keys `col 1`, `col 2` and target column as `target`.\n",
        "\n",
        "- Add the values from the feature and target columns one by one respectively in the dictionary using List Comprehension.\n",
        "\n",
        "- Convert the dictionary into a DataFrame\n",
        "\n",
        "- Print first five rows of the DataFrame."
      ]
    },
    {
      "cell_type": "code",
      "metadata": {
        "id": "gWVs_3bikNw_"
      },
      "source": [
        "# Create a Pandas DataFrame containing the items from the 'features_array' and 'target_array' arrays.\n",
        "\n",
        "# Import the module\n",
        "\n",
        "\n",
        "# Create a dummy dictionary\n",
        "\n",
        "\n",
        "# Convert the dictionary into DataFrame\n",
        "\n",
        "# Print first five rows of the DataFrame\n"
      ],
      "execution_count": null,
      "outputs": []
    },
    {
      "cell_type": "markdown",
      "metadata": {
        "id": "nNssXaJIxs1z"
      },
      "source": [
        "**Hint:**\n",
        "\n",
        "Use function `from_dict()` to convert Python Dictionary to DataFrame.\n",
        "\n",
        "**Syntax:** `pd.DataFrame.from_dict(some_dictionary)`"
      ]
    },
    {
      "cell_type": "markdown",
      "metadata": {
        "id": "cFadXT1xZL8N"
      },
      "source": [
        "**After this activity, the DataFrame should be created with two independent features columns and one dependent target column.**"
      ]
    },
    {
      "cell_type": "markdown",
      "metadata": {
        "id": "zw9fzGnn0o8_"
      },
      "source": [
        "----"
      ]
    },
    {
      "cell_type": "markdown",
      "metadata": {
        "id": "sih3CWX-0Afx"
      },
      "source": [
        "#### Activity 2: Dataset Inspection\n",
        "\n",
        "In this activity, you have look into the distribution of the labels in the `target` column of the DataFrame.\n",
        "\n",
        "**1.** Print the number of occurences of each label in `target` column."
      ]
    },
    {
      "cell_type": "code",
      "metadata": {
        "id": "4X2ZC-kvk_as"
      },
      "source": [
        "# Display the number of occurrences of each label in the 'target' column.\n"
      ],
      "execution_count": null,
      "outputs": []
    },
    {
      "cell_type": "markdown",
      "metadata": {
        "id": "pdM4v_ai0gcP"
      },
      "source": [
        "**2.** Print the percentage of the samples for each label in `target` column."
      ]
    },
    {
      "cell_type": "code",
      "metadata": {
        "id": "tHqjnoC4ntI1"
      },
      "source": [
        "# Get the percentage of count of each label samples in the dataset.\n"
      ],
      "execution_count": null,
      "outputs": []
    },
    {
      "cell_type": "markdown",
      "metadata": {
        "id": "lkIjwIRt0vU2"
      },
      "source": [
        "**Q:** How many unique labels are present in the DataFrame? What are they?\n",
        "\n",
        "**A:**\n",
        "\n",
        "**Q:** Is the DataFrame balanced?\n",
        "\n",
        "**A:**\n",
        "\n",
        "---\n",
        "\n"
      ]
    },
    {
      "cell_type": "markdown",
      "metadata": {
        "id": "efUDmkarmdK1"
      },
      "source": [
        "**3.**  Create a scatter plot between the columns `col 1` and `col 2` for all the labels to visualize the clusters of every class (or points)."
      ]
    },
    {
      "cell_type": "code",
      "metadata": {
        "id": "0oZ9l-qjm-Ci",
        "colab": {
          "base_uri": "https://localhost:8080/",
          "height": 372
        },
        "outputId": "4947d0ab-0af6-4829-91de-7b821cc18c0e"
      },
      "source": [
        "# Create a scatter plot between 'col 1' and 'col 2' columns separately for all the classes in the same plot.\n",
        "\n",
        "# Import the module\n",
        "\n",
        "\n",
        "# Define the size of the graph\n",
        "\n",
        "\n",
        "  # Plot the scatter plot for 'col 1' and 'col 2' where 'target ==i\"\n",
        "\n",
        "# Plot the x and y lables\n",
        "\n",
        "# Display the legends and the graph\n"
      ],
      "execution_count": null,
      "outputs": [
        {
          "output_type": "display_data",
          "data": {
            "text/plain": [
              "<Figure size 1152x384 with 1 Axes>"
            ],
            "image/png": "[encoded data removed]"
          },
          "metadata": {}
        }
      ]
    },
    {
      "cell_type": "markdown",
      "metadata": {
        "id": "VFL1eOrt4QGX"
      },
      "source": [
        "**Hint:**\n",
        "Revise the lesson \"Logistic Regression - Decision Boundary\"."
      ]
    },
    {
      "cell_type": "markdown",
      "metadata": {
        "id": "EALXjtgQACls"
      },
      "source": [
        "**After this activity, the labels to be predicted i.e the target variables and their distribution should be known.**"
      ]
    },
    {
      "cell_type": "markdown",
      "metadata": {
        "id": "Cz8UL0R646g7"
      },
      "source": [
        "----"
      ]
    },
    {
      "cell_type": "markdown",
      "metadata": {
        "id": "uDTmlU-Mz0fI"
      },
      "source": [
        "#### Activity 3: Train-Test Split\n",
        "\n",
        "We need to predict the value of the `target` variable, using other variables. Thus, `target` is the dependent variable and other columns are the independent variables.\n",
        "\n",
        "**1.** Split the dataset into the training set and test set such that the training set contains 70% of the instances and the remaining instances will become the test set.\n",
        "\n",
        "**2.** Set `random_state = 42`."
      ]
    },
    {
      "cell_type": "code",
      "metadata": {
        "id": "u0yVYJbqmLAZ"
      },
      "source": [
        "# Import 'train_test_split' module\n",
        "from sklearn.model_selection import train_test_split\n",
        "\n",
        "# Create the features data frame holding all the columns except the last column\n",
        "\n",
        "\n",
        "# and print first five rows of this dataframe\n",
        "\n",
        "\n",
        "# Create the target series that holds last column 'target'\n",
        "\n",
        "\n",
        "# and print first five rows of this series\n",
        "\n",
        "\n",
        "# Split the train and test sets using the 'train_test_split()' function."
      ],
      "execution_count": null,
      "outputs": []
    },
    {
      "cell_type": "markdown",
      "metadata": {
        "id": "g_QtCtFp5alM"
      },
      "source": [
        "**3.** Print the number of rows and columns in the training and testing set."
      ]
    },
    {
      "cell_type": "code",
      "metadata": {
        "id": "odYfuRCo9tTg"
      },
      "source": [
        "# Print the shape of all the four variables i.e. 'x_train', 'x_test', 'y_train' and 'y_test'\n"
      ],
      "execution_count": null,
      "outputs": []
    },
    {
      "cell_type": "markdown",
      "metadata": {
        "id": "Rpgp9jyYld-C"
      },
      "source": [
        "**After this activity, the features and target data should be splitted into training and testing data.**"
      ]
    },
    {
      "cell_type": "markdown",
      "metadata": {
        "id": "cHZ60-Bx5ipL"
      },
      "source": [
        "----"
      ]
    },
    {
      "cell_type": "markdown",
      "metadata": {
        "id": "9hn9AfqoY7DE"
      },
      "source": [
        "#### Activity 4: Logistic Regression - Model Training\n",
        "\n",
        "Implement Logistic Regression Classification using `sklearn` module in the following way:\n",
        "\n",
        "1. Deploy the model by importing the `LogisticRegression` class and create an object of this class.\n",
        "2. Call the `fit()` function on the Logistic Regression object and print the score using the `score()` function.\n"
      ]
    },
    {
      "cell_type": "code",
      "metadata": {
        "id": "IskflWOh_RHE"
      },
      "source": [
        "# Build a logistic regression model using the 'sklearn' module.\n",
        "from sklearn.linear_model import LogisticRegression\n",
        "\n",
        "# 1. Create the Logistic Regression object\n",
        "\n",
        "\n",
        "# 2. Call the 'fit()' function with training set as inputs.\n",
        "\n",
        "\n",
        "# 3. Call the 'score()' function with training set as inputs to check the accuracy score of the model.\n"
      ],
      "execution_count": null,
      "outputs": []
    },
    {
      "cell_type": "markdown",
      "metadata": {
        "id": "CCkIHk8t6NDY"
      },
      "source": [
        "**Note:** Ignore the warnings if any for now."
      ]
    },
    {
      "cell_type": "markdown",
      "metadata": {
        "id": "JlrL_FLjAUzx"
      },
      "source": [
        "**After this activity, a Logistic Regression model object should be trained for multiclass classification.**"
      ]
    },
    {
      "cell_type": "markdown",
      "metadata": {
        "id": "j5T8FUux6dgo"
      },
      "source": [
        "----"
      ]
    },
    {
      "cell_type": "markdown",
      "metadata": {
        "id": "4J0gTaZrZoeK"
      },
      "source": [
        "#### Activity 5: Model Prediction and Evaluation - Training Set\n",
        "\n",
        "**1.** Predict the values for training set by calling the `predict()` function on the Logistic Regression object.\n",
        "\n",
        "**2.** Print the unique labels predicted using Logistic Regression on training features.\n",
        "\n",
        "**3.** Print the distribution of the labels predicted in the predicted target series for the training features.\n"
      ]
    },
    {
      "cell_type": "code",
      "metadata": {
        "id": "LY4yodj0jugK"
      },
      "source": [
        "# Predict the values of 'target' by the logistic regression model on the train set.\n",
        "\n",
        "# Predict the target for the training features data\n",
        "\n",
        "# Convert the predicted array into series\n",
        "\n",
        "# Print the unique labels in the predicted series for training features\n",
        "\n",
        "# Print the distribution labels in the predicted series for training features\n"
      ],
      "execution_count": null,
      "outputs": []
    },
    {
      "cell_type": "markdown",
      "metadata": {
        "id": "vt7s7JVnbUQ1"
      },
      "source": [
        "**Q:** Are all the label values predicted for the training features data?\n",
        "\n",
        "**A:**\n",
        "$$ $$\n",
        "**Q:** Which labels are predicted and not predicted by the Logistic Regression model?\n",
        "\n",
        "**A:**"
      ]
    },
    {
      "cell_type": "markdown",
      "metadata": {
        "id": "BZPeTWgyAiNZ"
      },
      "source": [
        "**After this activity, values of the labels should be predicted for the target columns using training features set and the model should be evaluated for the same.**"
      ]
    },
    {
      "cell_type": "markdown",
      "metadata": {
        "id": "2-WVVtfk9w2O"
      },
      "source": [
        "----"
      ]
    },
    {
      "cell_type": "markdown",
      "metadata": {
        "id": "JEd74tnB98wU"
      },
      "source": [
        "#### Activity 6: Model Prediction and Evaluation - Test Set\n",
        "\n",
        "**1.** Predict the values for the test set by calling the `predict()` function on the Logistic Regression object.\n",
        "\n",
        "**2.** Print the unique labels predicted using Logistic Regression on test features.\n",
        "\n",
        "**3.** Print the distribution of the labels predicted in the predicted target series for the test features.\n"
      ]
    },
    {
      "cell_type": "code",
      "metadata": {
        "id": "FlSKmfaDvDUU"
      },
      "source": [
        "# Predict the values of 'target' by the logistic regression model on the test set.\n",
        "\n",
        "# Predict the target for the test features data\n",
        "\n",
        "\n",
        "# Convert the predicted array into series\n",
        "\n",
        "# Print the unique labels in the predicted series for test features\n",
        "\n",
        "# Print the distribution labels in the predicted series for test features\n"
      ],
      "execution_count": null,
      "outputs": []
    },
    {
      "cell_type": "markdown",
      "metadata": {
        "id": "xQE5DvUU-gvM"
      },
      "source": [
        "**Q:** Are all the labels predicted for the test features data?\n",
        "\n",
        "**A:**\n",
        "\n",
        "$$ $$\n",
        "**Q:** What are labels predicted and not predicted using Logistic Regression model object?\n",
        "\n",
        "**A:**\n",
        "---\n",
        "**4.** Display the confusion matrix for the test set:\n"
      ]
    },
    {
      "cell_type": "code",
      "metadata": {
        "id": "eV0xbGtNoY80",
        "colab": {
          "base_uri": "https://localhost:8080/"
        },
        "outputId": "eed489df-7cf3-44b3-bf44-a5852fa32809"
      },
      "source": [
        "# Print the confusion matrix for the actual and predicted data of the test set (if required)\n",
        "from sklearn.metrics import confusion_matrix, classification_report\n",
        "print(confusion_matrix(y_test, y_test_pred))"
      ],
      "execution_count": null,
      "outputs": [
        {
          "output_type": "stream",
          "name": "stdout",
          "text": [
            "[[  61    0    0    0    1    0]\n",
            " [   0 1229    0    0   55    0]\n",
            " [   0    0 2416    0    0    0]\n",
            " [   0    0    0    0    0    2]\n",
            " [   0   43    0    0  934    0]\n",
            " [   1    0    0    1    0  799]]\n"
          ]
        }
      ]
    },
    {
      "cell_type": "markdown",
      "metadata": {
        "id": "nzeGPULe-3Tn"
      },
      "source": [
        "**5.** Display the classification report for the test set:"
      ]
    },
    {
      "cell_type": "code",
      "metadata": {
        "id": "6d1cVFQ0osXX",
        "colab": {
          "base_uri": "https://localhost:8080/"
        },
        "outputId": "622b3b14-44ad-4c74-caab-9a9b214110e6"
      },
      "source": [
        "# Print the classification report for the actual and predicted data of the testing set (if required)\n"
      ],
      "execution_count": null,
      "outputs": [
        {
          "output_type": "stream",
          "name": "stdout",
          "text": [
            "              precision    recall  f1-score   support\n",
            "\n",
            "           0       0.98      0.98      0.98        62\n",
            "           1       0.97      0.96      0.96      1284\n",
            "           2       1.00      1.00      1.00      2416\n",
            "           3       0.00      0.00      0.00         2\n",
            "           4       0.94      0.96      0.95       977\n",
            "           5       1.00      1.00      1.00       801\n",
            "\n",
            "    accuracy                           0.98      5542\n",
            "   macro avg       0.82      0.82      0.82      5542\n",
            "weighted avg       0.98      0.98      0.98      5542\n",
            "\n"
          ]
        }
      ]
    },
    {
      "cell_type": "markdown",
      "metadata": {
        "id": "E7TzNuyCA1Dp"
      },
      "source": [
        "**After this activity, labels should be predicted for the target columns using test features set and the model should be evaluated for the same.**"
      ]
    },
    {
      "cell_type": "markdown",
      "metadata": {
        "id": "_MjqVw93--Ir"
      },
      "source": [
        "---"
      ]
    },
    {
      "cell_type": "markdown",
      "metadata": {
        "id": "_Tw7uK1ndut5"
      },
      "source": [
        "**Write your interpretation of the results here.**\n",
        "\n",
        "-"
      ]
    },
    {
      "cell_type": "markdown",
      "metadata": {
        "id": "iZ5Jtorc-j9O"
      },
      "source": [
        "---"
      ]
    },
    {
      "cell_type": "markdown",
      "metadata": {
        "id": "SZzMOWVA-kwL"
      },
      "source": [
        "### Submitting the Project:\n",
        "\n",
        "1. After finishing the project, click on the **Share** button on the top right corner of the notebook. A new dialog box will appear.\n",
        "\n",
        "  <img src='https://student-datasets-bucket.s3.ap-south-1.amazonaws.com/images/project-share-images/2_share_button.png' width=500>\n",
        "\n",
        "2. In the dialog box, make sure that '**Anyone on the Internet with this link can view**' option is selected and then click on the **Copy link** button.\n",
        "\n",
        "   <img src='https://student-datasets-bucket.s3.ap-south-1.amazonaws.com/images/project-share-images/3_copy_link.png' width=500>\n",
        "\n",
        "3. The link of the duplicate copy (named as **YYYY-MM-DD_StudentName_Project80**) of the notebook will get copied\n",
        "\n",
        "   <img src='https://student-datasets-bucket.s3.ap-south-1.amazonaws.com/images/project-share-images/4_copy_link_confirmation.png' width=500>\n",
        "\n",
        "4. Go to your dashboard and click on the **My Projects** option.\n",
        "   \n",
        "   <img src='https://student-datasets-bucket.s3.ap-south-1.amazonaws.com/images/project-share-images/5_student_dashboard.png' width=800>\n",
        "\n",
        "  <img src='https://student-datasets-bucket.s3.ap-south-1.amazonaws.com/images/project-share-images/6_my_projects.png' width=800>\n",
        "\n",
        "5. Click on the **View Project** button for the project you want to submit.\n",
        "\n",
        "   <img src='https://student-datasets-bucket.s3.ap-south-1.amazonaws.com/images/project-share-images/7_view_project.png' width=800>\n",
        "\n",
        "6. Click on the **Submit Project Here** button.\n",
        "\n",
        "   <img src='https://student-datasets-bucket.s3.ap-south-1.amazonaws.com/images/project-share-images/8_submit_project.png' width=800>\n",
        "\n",
        "7. Paste the link to the project file named as **YYYY-MM-DD_StudentName_Project80** in the URL box and then click on the **Submit** button.\n",
        "\n",
        "   <img src='https://student-datasets-bucket.s3.ap-south-1.amazonaws.com/images/project-share-images/9_enter_project_url.png' width=800>"
      ]
    }
  ]
}